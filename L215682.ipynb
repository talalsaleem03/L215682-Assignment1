{
  "nbformat": 4,
  "nbformat_minor": 0,
  "metadata": {
    "colab": {
      "provenance": [],
      "collapsed_sections": []
    },
    "kernelspec": {
      "name": "python3",
      "display_name": "Python 3"
    },
    "language_info": {
      "name": "python"
    }
  },
  "cells": [
    {
      "cell_type": "markdown",
      "source": [
        "---\n",
        "## Question 1\n",
        "---"
      ],
      "metadata": {
        "id": "arB_0r9H0jjC"
      }
    },
    {
      "cell_type": "markdown",
      "source": [
        "Define a procedure called \"check_input\" that takes an input as a square list of lists (2D Matrix of N x N) and returns a boolen \"true\" if the input is valid or \"false\" otherwise, according to the following criteria.\n",
        "\n",
        "1. Each coloumn must contain numbers from between 1 and N, with no duplicates.\n",
        "2. Each row must contain numbers from between 1 and N, with no duplicates."
      ],
      "metadata": {
        "id": "qHPTNDy30n99"
      }
    },
    {
      "cell_type": "code",
      "source": [
        "# define procedure here\n",
        "def check_input(arr):\n",
        "  import numpy as np\n",
        "  arr = np.array(arr)\n",
        "  rows = arr.shape[0]\n",
        "  cols = arr.shape[1]\n",
        "  isValid = True\n",
        "  if(arr.dtype != 'int64'):\n",
        "    return False\n",
        "  if (rows != cols):\n",
        "    isValid = False\n",
        "    return isValid\n",
        "  for x in range(rows):\n",
        "    col = arr[: ,x]\n",
        "    if((len(col) != len(set(col)))):\n",
        "      isValid = False\n",
        "      return isValid\n",
        "    for i in col:\n",
        "      if(i < 1 or i > rows):\n",
        "        isValid = False\n",
        "        return isValid\n",
        "    for x in range(rows):\n",
        "      row = arr[x , :]\n",
        "      if((len(row) != len(set(row)))):\n",
        "        isValid = False\n",
        "        return isValid\n",
        "      for i in row:\n",
        "        if(i < 1 or i > rows):\n",
        "          isValid = False\n",
        "          return isValid\n",
        "  return isValid"
      ],
      "metadata": {
        "id": "8qwGohWT4jhr"
      },
      "execution_count": null,
      "outputs": []
    },
    {
      "cell_type": "code",
      "source": [
        "# run this block to test code after defining the procedure\n",
        "\n",
        "test1 = [[1, 2, 3],\n",
        "        [2, 3, 1],\n",
        "        [3, 1, 2]]\n",
        "\n",
        "test2 = [[1, 2, 3, 4],\n",
        "        [2, 3, 1, 3],\n",
        "        [3, 1, 2, 3],\n",
        "        [4, 4, 4, 4]]\n",
        "\n",
        "test3 = [['a', 'b', 'c'],\n",
        "        ['b', 'c', 'a'],\n",
        "        ['c', 'a', 'b']]\n",
        "\n",
        "print(check_input(test1)) # must return true\n",
        "print(check_input(test2)) # must return false\n",
        "print(check_input(test3)) # must return false"
      ],
      "metadata": {
        "id": "wdL9MWgq2ZbP",
        "colab": {
          "base_uri": "https://localhost:8080/"
        },
        "outputId": "7a5c4368-5dcc-488f-c444-6ac19394f77e"
      },
      "execution_count": null,
      "outputs": [
        {
          "output_type": "stream",
          "name": "stdout",
          "text": [
            "True\n",
            "False\n",
            "False\n"
          ]
        }
      ]
    },
    {
      "cell_type": "markdown",
      "source": [
        "---\n",
        "## Question 2\n",
        "---"
      ],
      "metadata": {
        "id": "4RVTlnhWqOUC"
      }
    },
    {
      "cell_type": "markdown",
      "source": [
        "**Part A** - Import the file \"StudentMarkSheet.csv\" as a Pandas DataFrame and print the information for the dataframe"
      ],
      "metadata": {
        "id": "Uyc7JPtNt0pR"
      }
    },
    {
      "cell_type": "code",
      "execution_count": null,
      "metadata": {
        "id": "wYrt7e6Xop2P",
        "colab": {
          "base_uri": "https://localhost:8080/"
        },
        "outputId": "7341230b-de63-4e4a-da54-0cdfc44fc78e"
      },
      "outputs": [
        {
          "output_type": "stream",
          "name": "stdout",
          "text": [
            "            Student name    Exam name   Exam date  Marks\n",
            "0           James Walker      Biology  05/06/2016   31.0\n",
            "1          Velma Clemons      Biology  05/06/2016   43.0\n",
            "2         Kibo Underwood      Biology  05/06/2016   81.0\n",
            "3            Louis Mcgee      Biology  05/06/2016   11.0\n",
            "4           Phyllis Paul      Biology  05/06/2016   18.0\n",
            "5         Zenaida Decker      Biology  05/06/2016   55.0\n",
            "6        Gillian Tillman      Biology  05/06/2016   38.0\n",
            "7        Constance Boone      Biology  05/06/2016   16.0\n",
            "8      Giselle Lancaster      Biology  05/06/2016   73.0\n",
            "9       Kirsten Mcdowell      Biology  05/06/2016   16.0\n",
            "10           Solomon Ray      Biology  05/06/2016   23.0\n",
            "11         John Marshall      Biology  05/06/2016   55.0\n",
            "12        Merrill Carney      Biology  05/06/2016   71.0\n",
            "13      Hakeem Gillespie      Biology  05/06/2016   12.0\n",
            "14          Hayden Boyer      Biology  05/06/2016   77.0\n",
            "15        Griffin Mcleod      Biology  05/06/2016   19.0\n",
            "16      Allistair Patton      Biology  05/06/2016   57.0\n",
            "17           Rina Slater      Biology  05/06/2016   78.0\n",
            "18      Caldwell Skinner      Biology  05/06/2016   92.0\n",
            "19       Portia Galloway      Biology  05/06/2016   23.0\n",
            "20      Noelle Valentine      Biology  05/06/2016   62.0\n",
            "21             Abel Clay      Biology  05/06/2016    1.0\n",
            "22        Stephanie Kent      Biology  05/06/2016  100.0\n",
            "23            Axel Petty      Biology  05/06/2016   49.0\n",
            "24        Nevada Morales      Biology  05/06/2016   41.0\n",
            "25           Fuller Bush      Biology  05/06/2016   47.0\n",
            "26            Quinn Mayo      Biology  05/06/2016   24.0\n",
            "27        Marcia Shepard      Biology  05/06/2016   33.0\n",
            "28          Kieran Moody      Biology  05/06/2016   45.0\n",
            "29      Brielle Thompson      Biology  05/06/2016   41.0\n",
            "30            Hashim Gay      Biology  05/06/2016   78.0\n",
            "31       Deborah Roberts      Biology  05/06/2016   25.0\n",
            "32       Nomlanga Clarke      Biology  05/06/2016   44.0\n",
            "33          Elaine Downs      Biology  05/06/2016   86.0\n",
            "34      Christen Ballard      Biology  05/06/2016   97.0\n",
            "35          Dacey Baxter      Biology  05/06/2016   35.0\n",
            "36         Nasim Sampson      Biology  05/06/2016   75.0\n",
            "37         Yoshi Sherman      Biology  05/06/2016   48.0\n",
            "38           Veda Malone    Chemistry  15/06/2016   52.0\n",
            "39       Scarlett Fisher    Chemistry  15/06/2016   20.0\n",
            "40      Meredith Parsons    Chemistry  15/06/2016   32.0\n",
            "41        Jerome Buckley    Chemistry  15/06/2016   19.0\n",
            "42          James Walker    Chemistry  15/06/2016   61.0\n",
            "43      Gisela Robertson    Chemistry  15/06/2016   34.0\n",
            "44           Sylvia Kent    Chemistry  15/06/2016    9.0\n",
            "45         Mercedes King    Chemistry  15/06/2016   22.0\n",
            "46          Logan Madden    Chemistry  15/06/2016   46.0\n",
            "47           Ryan Herman    Chemistry  15/06/2016    NaN\n",
            "48          Cora Frazier    Chemistry  15/06/2016   92.0\n",
            "49        Yolanda Carter    Chemistry  15/06/2016    1.0\n",
            "50         Hadassah Lowe    Chemistry  15/06/2016   84.0\n",
            "51           Ingrid Yang    Chemistry  15/06/2016   63.0\n",
            "52         Trevor Spence    Chemistry  15/06/2016   59.0\n",
            "53             Iola West    Chemistry  15/06/2016   61.0\n",
            "54          Kitra Sparks    Chemistry  15/06/2016   47.0\n",
            "55            Carly Bray    Chemistry  15/06/2016   27.0\n",
            "56         Leilani Beard    Chemistry  15/06/2016   99.0\n",
            "57         Cameron Bowen    Chemistry  15/06/2016   84.0\n",
            "58          Hilda Oneill    Chemistry  15/06/2016   95.0\n",
            "59             Ori Short    Chemistry  15/06/2016   50.0\n",
            "60       Xandra Cardenas    Chemistry  15/06/2016   27.0\n",
            "61           Audrey Todd    Chemistry  15/06/2016   39.0\n",
            "62       Ferdinand Lloyd    Chemistry  15/06/2016   71.0\n",
            "63       Kareem Mcdowell    Chemistry  15/06/2016   83.0\n",
            "64           Aaron Giles    Chemistry  15/06/2016   38.0\n",
            "65       Keefe Schneider  Mathematics  29/07/2016   48.0\n",
            "66        Kasper Ballard  Mathematics  29/07/2016    5.0\n",
            "67          Maris Turner  Mathematics  29/07/2016    7.0\n",
            "68         Ava Robertson  Mathematics  29/07/2016   70.0\n",
            "69        Gillian Benton  Mathematics  29/07/2016   73.0\n",
            "70           Dora Landry  Mathematics  29/07/2016   59.0\n",
            "71          James Walker  Mathematics  29/07/2016   23.0\n",
            "72           Iola Sutton  Mathematics  29/07/2016   72.0\n",
            "73             Jana Reed  Mathematics  29/07/2016   31.0\n",
            "74          Alfonso Love  Mathematics  29/07/2016   74.0\n",
            "75         Ciaran Mosley  Mathematics  29/07/2016   91.0\n",
            "76          Justin Evans  Mathematics  29/07/2016   53.0\n",
            "77           Ryder Combs  Mathematics  29/07/2016   56.0\n",
            "78         Nelle Skinner  Mathematics  29/07/2016    NaN\n",
            "79         Jakeem Rivera  Mathematics  29/07/2016  100.0\n",
            "80            Hyatt Long  Mathematics  29/07/2016   50.0\n",
            "81       Tanisha Stanton  Mathematics  29/07/2016   60.0\n",
            "82          Alec Pittman  Mathematics  29/07/2016   38.0\n",
            "83        Octavia Ashley  Mathematics  29/07/2016   33.0\n",
            "84        Curran Merrill  Mathematics  29/07/2016   75.0\n",
            "85           Laith Gibbs  Mathematics  29/07/2016   74.0\n",
            "86        Walter Skinner  Mathematics  29/07/2016    7.0\n",
            "87            Burke Horn  Mathematics  29/07/2016    6.0\n",
            "88      Alexander Walton  Mathematics  29/07/2016   40.0\n",
            "89       Cally Wilkinson  Mathematics  29/07/2016   14.0\n",
            "90         Gary Mcintosh  Mathematics  29/07/2016   16.0\n",
            "91           Jacob Greer  Mathematics  29/07/2016   31.0\n",
            "92    Fitzgerald Mueller  Mathematics  29/07/2016   72.0\n",
            "93        Claire Roberts  Mathematics  29/07/2016   48.0\n",
            "94         Kuame Harrell  Mathematics  29/07/2016   53.0\n",
            "95          Kaseem Hurst  Mathematics  29/07/2016   67.0\n",
            "96            Irene Witt  Mathematics  29/07/2016   23.0\n",
            "97         Courtney Nash  Mathematics  29/07/2016   90.0\n",
            "98           Lane Torres  Mathematics  29/07/2016   87.0\n",
            "99          Jonas Vinson  Mathematics  29/07/2016   40.0\n",
            "100        Burton Holden  Mathematics  29/07/2016   26.0\n",
            "101          Connor Shaw  Mathematics  29/07/2016   51.0\n",
            "102        Calvin Riddle   Philosophy  02/06/2016   35.0\n",
            "103          Tara Mendez   Philosophy  02/06/2016   66.0\n",
            "104            Myra Wall   Philosophy  02/06/2016    NaN\n",
            "105          Pandora Orr   Philosophy  02/06/2016   91.0\n",
            "106      Stuart Crawford   Philosophy  02/06/2016   63.0\n",
            "107        Winter Mendez   Philosophy  02/06/2016   16.0\n",
            "108          Elijah Goff   Philosophy  02/06/2016   10.0\n",
            "109     Chiquita Gilmore   Philosophy  02/06/2016   23.0\n",
            "110      Eleanor Gregory   Philosophy  02/06/2016   72.0\n",
            "111         Justine Soto   Philosophy  02/06/2016   93.0\n",
            "112      Stuart Mcdaniel   Philosophy  02/06/2016   10.0\n",
            "113     Shaeleigh Dunlap   Philosophy  02/06/2016   99.0\n",
            "114        Lesley Bolton   Philosophy  02/06/2016   67.0\n",
            "115        Shellie Davis   Philosophy  02/06/2016   81.0\n",
            "116         Tarik Jarvis   Philosophy  02/06/2016   40.0\n",
            "117           Adria Ball   Philosophy  02/06/2016   23.0\n",
            "118        Daryl Tillman   Philosophy  02/06/2016   65.0\n",
            "119           Magee Tate   Philosophy  02/06/2016   24.0\n",
            "120       Jordan Beasley   Philosophy  02/06/2016   62.0\n",
            "121        Dalton Becker   Philosophy  02/06/2016   41.0\n",
            "122        Derek Burnett   Philosophy  02/06/2016   42.0\n",
            "123         Halla Little   Philosophy  02/06/2016    8.0\n",
            "124            Lani Pate   Philosophy  02/06/2016   91.0\n",
            "125          Moses Chang   Philosophy  02/06/2016   69.0\n",
            "126         Travis Weeks   Philosophy  02/06/2016   47.0\n",
            "127       Nichole Ortega   Philosophy  02/06/2016    0.0\n",
            "128         Hasad Berger   Philosophy  02/06/2016   42.0\n",
            "129          Galvin Hall   Philosophy  02/06/2016   65.0\n",
            "130       Kieran English   Philosophy  02/06/2016   42.0\n",
            "131            Ella Dunn   Philosophy  02/06/2016   32.0\n",
            "132       Jermaine Roman   Philosophy  02/06/2016   33.0\n",
            "133   Chadwick Armstrong   Philosophy  02/06/2016    4.0\n",
            "134         Rhonda Ellis   Philosophy  02/06/2016   27.0\n",
            "135          Ezra Brooks   Philosophy  02/06/2016   56.0\n",
            "136    Jessamine Trevino   Philosophy  02/06/2016   36.0\n",
            "137       Chaim Garrison   Philosophy  02/06/2016   51.0\n",
            "138           Bo Leonard   Philosophy  02/06/2016   71.0\n",
            "139        May Christian   Philosophy  02/06/2016   52.0\n",
            "140     Ashton Nicholson      Physics  10/06/2016   69.0\n",
            "141      Solomon Rollins      Physics  10/06/2016   95.0\n",
            "142      Wesley Jacobson      Physics  10/06/2016   33.0\n",
            "143          Laura Gomez      Physics  10/06/2016   76.0\n",
            "144         Cora Fuentes      Physics  10/06/2016   20.0\n",
            "145      Deirdre Flowers      Physics  10/06/2016   10.0\n",
            "146         Yen Rutledge      Physics  10/06/2016   67.0\n",
            "147     Vladimir Delgado      Physics  10/06/2016   80.0\n",
            "148        Hedley Brewer      Physics  10/06/2016   22.0\n",
            "149       Lillian Massey      Physics  10/06/2016    8.0\n",
            "150         James Walker      Physics  10/06/2016  100.0\n",
            "151          Raja Conley      Physics  10/06/2016   49.0\n",
            "152        Xavier Coffey      Physics  10/06/2016   70.0\n",
            "153           Ian Sawyer      Physics  10/06/2016   86.0\n",
            "154       Branden Hansen      Physics  10/06/2016   15.0\n",
            "155       Yoshio Schultz      Physics  10/06/2016   95.0\n",
            "156        Jamal Mercado      Physics  10/06/2016   67.0\n",
            "157       Ishmael Zamora      Physics  10/06/2016   20.0\n",
            "158       Kristen Potter      Physics  10/06/2016   31.0\n",
            "159      Unity Rodriquez      Physics  10/06/2016   48.0\n",
            "160            Mia Barry      Physics  10/06/2016   26.0\n",
            "161        Vincent Byers    Sociology  21/06/2016   70.0\n",
            "162        Rogan Edwards    Sociology  21/06/2016   37.0\n",
            "163       Darrel Wallace    Sociology  21/06/2016   68.0\n",
            "164         Colin Adkins    Sociology  21/06/2016   60.0\n",
            "165            Hop Cantu    Sociology  21/06/2016   98.0\n",
            "166          Nita Valdez    Sociology  21/06/2016   20.0\n",
            "167        Georgia Gomez    Sociology  21/06/2016   32.0\n",
            "168       Shannon Fields    Sociology  21/06/2016   40.0\n",
            "169       Jennifer Keith    Sociology  21/06/2016   97.0\n",
            "170            Keane Cox    Sociology  21/06/2016    1.0\n",
            "171          Sage Foster    Sociology  21/06/2016    6.0\n",
            "172          Ezra Hoover    Sociology  21/06/2016   39.0\n",
            "173         Burton Burke    Sociology  21/06/2016   68.0\n",
            "174      Preston Barrera    Sociology  21/06/2016   37.0\n",
            "175       Octavia Monroe    Sociology  21/06/2016   37.0\n",
            "176       Kirestin Sweet    Sociology  21/06/2016   90.0\n",
            "177    Octavius Chambers    Sociology  21/06/2016   38.0\n",
            "178         Grady Decker    Sociology  21/06/2016   87.0\n",
            "179     Jenette Humphrey    Sociology  21/06/2016   45.0\n",
            "180         James Walker    Sociology  21/06/2016   73.0\n",
            "181    Mohammad Cantrell    Sociology  21/06/2016   36.0\n",
            "182        Alma Richmond    Sociology  21/06/2016   35.0\n",
            "183         Galena Mayer    Sociology  21/06/2016   85.0\n",
            "184          Reese Black    Sociology  21/06/2016    7.0\n",
            "185         Phillip Ward    Sociology  21/06/2016   67.0\n",
            "186    Priscilla Higgins    Sociology  21/06/2016   80.0\n",
            "187        Yael Trujillo    Sociology  21/06/2016   55.0\n",
            "188  Demetrius Castaneda          NaN  21/06/2016   67.0\n",
            "189         Todd Dillard    Sociology  21/06/2016   67.0\n",
            "190         Noelle Marsh    Sociology  21/06/2016   27.0\n",
            "191           Akeem Chan    Sociology  21/06/2016   94.0\n",
            "192        Victoria Long    Sociology  21/06/2016   96.0\n",
            "193     Brooke Zimmerman    Sociology  21/06/2016   99.0\n",
            "194        Cadman Greene    Sociology  21/06/2016   64.0\n",
            "195           Yen Bowers    Sociology  21/06/2016   52.0\n",
            "196            Ryan Pena    Sociology  21/06/2016   16.0\n",
            "197      Portia Hamilton    Sociology  21/06/2016   34.0\n",
            "198      Sydnee Chambers    Sociology  21/06/2016   76.0\n",
            "199          Stacy Small    Sociology  21/06/2016   96.0\n"
          ]
        }
      ],
      "source": [
        "import pandas as pd\n",
        "\n",
        "df = pd.read_csv('StudentMarkSheet.csv')\n",
        "\n",
        "print(df.to_string())"
      ]
    },
    {
      "cell_type": "markdown",
      "source": [
        "**Part B** - Remove any rows that do not contain all the data. Also print the following information.\n",
        "\n",
        "1. Number of rows before\n",
        "2. Number of rows containing null data\n",
        "3. Number of rows after"
      ],
      "metadata": {
        "id": "jIaMvgcft_i0"
      }
    },
    {
      "cell_type": "code",
      "source": [
        "new_df = df.dropna()\n",
        "\n",
        "print(df.to_string())"
      ],
      "metadata": {
        "id": "_ov_SWdxuZUm",
        "colab": {
          "base_uri": "https://localhost:8080/"
        },
        "outputId": "e7ce66d1-9cc0-4c00-8761-9502e87f34da"
      },
      "execution_count": null,
      "outputs": [
        {
          "output_type": "stream",
          "name": "stdout",
          "text": [
            "            Student name    Exam name   Exam date  Marks\n",
            "0           James Walker      Biology  05/06/2016   31.0\n",
            "1          Velma Clemons      Biology  05/06/2016   43.0\n",
            "2         Kibo Underwood      Biology  05/06/2016   81.0\n",
            "3            Louis Mcgee      Biology  05/06/2016   11.0\n",
            "4           Phyllis Paul      Biology  05/06/2016   18.0\n",
            "5         Zenaida Decker      Biology  05/06/2016   55.0\n",
            "6        Gillian Tillman      Biology  05/06/2016   38.0\n",
            "7        Constance Boone      Biology  05/06/2016   16.0\n",
            "8      Giselle Lancaster      Biology  05/06/2016   73.0\n",
            "9       Kirsten Mcdowell      Biology  05/06/2016   16.0\n",
            "10           Solomon Ray      Biology  05/06/2016   23.0\n",
            "11         John Marshall      Biology  05/06/2016   55.0\n",
            "12        Merrill Carney      Biology  05/06/2016   71.0\n",
            "13      Hakeem Gillespie      Biology  05/06/2016   12.0\n",
            "14          Hayden Boyer      Biology  05/06/2016   77.0\n",
            "15        Griffin Mcleod      Biology  05/06/2016   19.0\n",
            "16      Allistair Patton      Biology  05/06/2016   57.0\n",
            "17           Rina Slater      Biology  05/06/2016   78.0\n",
            "18      Caldwell Skinner      Biology  05/06/2016   92.0\n",
            "19       Portia Galloway      Biology  05/06/2016   23.0\n",
            "20      Noelle Valentine      Biology  05/06/2016   62.0\n",
            "21             Abel Clay      Biology  05/06/2016    1.0\n",
            "22        Stephanie Kent      Biology  05/06/2016  100.0\n",
            "23            Axel Petty      Biology  05/06/2016   49.0\n",
            "24        Nevada Morales      Biology  05/06/2016   41.0\n",
            "25           Fuller Bush      Biology  05/06/2016   47.0\n",
            "26            Quinn Mayo      Biology  05/06/2016   24.0\n",
            "27        Marcia Shepard      Biology  05/06/2016   33.0\n",
            "28          Kieran Moody      Biology  05/06/2016   45.0\n",
            "29      Brielle Thompson      Biology  05/06/2016   41.0\n",
            "30            Hashim Gay      Biology  05/06/2016   78.0\n",
            "31       Deborah Roberts      Biology  05/06/2016   25.0\n",
            "32       Nomlanga Clarke      Biology  05/06/2016   44.0\n",
            "33          Elaine Downs      Biology  05/06/2016   86.0\n",
            "34      Christen Ballard      Biology  05/06/2016   97.0\n",
            "35          Dacey Baxter      Biology  05/06/2016   35.0\n",
            "36         Nasim Sampson      Biology  05/06/2016   75.0\n",
            "37         Yoshi Sherman      Biology  05/06/2016   48.0\n",
            "38           Veda Malone    Chemistry  15/06/2016   52.0\n",
            "39       Scarlett Fisher    Chemistry  15/06/2016   20.0\n",
            "40      Meredith Parsons    Chemistry  15/06/2016   32.0\n",
            "41        Jerome Buckley    Chemistry  15/06/2016   19.0\n",
            "42          James Walker    Chemistry  15/06/2016   61.0\n",
            "43      Gisela Robertson    Chemistry  15/06/2016   34.0\n",
            "44           Sylvia Kent    Chemistry  15/06/2016    9.0\n",
            "45         Mercedes King    Chemistry  15/06/2016   22.0\n",
            "46          Logan Madden    Chemistry  15/06/2016   46.0\n",
            "47           Ryan Herman    Chemistry  15/06/2016    NaN\n",
            "48          Cora Frazier    Chemistry  15/06/2016   92.0\n",
            "49        Yolanda Carter    Chemistry  15/06/2016    1.0\n",
            "50         Hadassah Lowe    Chemistry  15/06/2016   84.0\n",
            "51           Ingrid Yang    Chemistry  15/06/2016   63.0\n",
            "52         Trevor Spence    Chemistry  15/06/2016   59.0\n",
            "53             Iola West    Chemistry  15/06/2016   61.0\n",
            "54          Kitra Sparks    Chemistry  15/06/2016   47.0\n",
            "55            Carly Bray    Chemistry  15/06/2016   27.0\n",
            "56         Leilani Beard    Chemistry  15/06/2016   99.0\n",
            "57         Cameron Bowen    Chemistry  15/06/2016   84.0\n",
            "58          Hilda Oneill    Chemistry  15/06/2016   95.0\n",
            "59             Ori Short    Chemistry  15/06/2016   50.0\n",
            "60       Xandra Cardenas    Chemistry  15/06/2016   27.0\n",
            "61           Audrey Todd    Chemistry  15/06/2016   39.0\n",
            "62       Ferdinand Lloyd    Chemistry  15/06/2016   71.0\n",
            "63       Kareem Mcdowell    Chemistry  15/06/2016   83.0\n",
            "64           Aaron Giles    Chemistry  15/06/2016   38.0\n",
            "65       Keefe Schneider  Mathematics  29/07/2016   48.0\n",
            "66        Kasper Ballard  Mathematics  29/07/2016    5.0\n",
            "67          Maris Turner  Mathematics  29/07/2016    7.0\n",
            "68         Ava Robertson  Mathematics  29/07/2016   70.0\n",
            "69        Gillian Benton  Mathematics  29/07/2016   73.0\n",
            "70           Dora Landry  Mathematics  29/07/2016   59.0\n",
            "71          James Walker  Mathematics  29/07/2016   23.0\n",
            "72           Iola Sutton  Mathematics  29/07/2016   72.0\n",
            "73             Jana Reed  Mathematics  29/07/2016   31.0\n",
            "74          Alfonso Love  Mathematics  29/07/2016   74.0\n",
            "75         Ciaran Mosley  Mathematics  29/07/2016   91.0\n",
            "76          Justin Evans  Mathematics  29/07/2016   53.0\n",
            "77           Ryder Combs  Mathematics  29/07/2016   56.0\n",
            "78         Nelle Skinner  Mathematics  29/07/2016    NaN\n",
            "79         Jakeem Rivera  Mathematics  29/07/2016  100.0\n",
            "80            Hyatt Long  Mathematics  29/07/2016   50.0\n",
            "81       Tanisha Stanton  Mathematics  29/07/2016   60.0\n",
            "82          Alec Pittman  Mathematics  29/07/2016   38.0\n",
            "83        Octavia Ashley  Mathematics  29/07/2016   33.0\n",
            "84        Curran Merrill  Mathematics  29/07/2016   75.0\n",
            "85           Laith Gibbs  Mathematics  29/07/2016   74.0\n",
            "86        Walter Skinner  Mathematics  29/07/2016    7.0\n",
            "87            Burke Horn  Mathematics  29/07/2016    6.0\n",
            "88      Alexander Walton  Mathematics  29/07/2016   40.0\n",
            "89       Cally Wilkinson  Mathematics  29/07/2016   14.0\n",
            "90         Gary Mcintosh  Mathematics  29/07/2016   16.0\n",
            "91           Jacob Greer  Mathematics  29/07/2016   31.0\n",
            "92    Fitzgerald Mueller  Mathematics  29/07/2016   72.0\n",
            "93        Claire Roberts  Mathematics  29/07/2016   48.0\n",
            "94         Kuame Harrell  Mathematics  29/07/2016   53.0\n",
            "95          Kaseem Hurst  Mathematics  29/07/2016   67.0\n",
            "96            Irene Witt  Mathematics  29/07/2016   23.0\n",
            "97         Courtney Nash  Mathematics  29/07/2016   90.0\n",
            "98           Lane Torres  Mathematics  29/07/2016   87.0\n",
            "99          Jonas Vinson  Mathematics  29/07/2016   40.0\n",
            "100        Burton Holden  Mathematics  29/07/2016   26.0\n",
            "101          Connor Shaw  Mathematics  29/07/2016   51.0\n",
            "102        Calvin Riddle   Philosophy  02/06/2016   35.0\n",
            "103          Tara Mendez   Philosophy  02/06/2016   66.0\n",
            "104            Myra Wall   Philosophy  02/06/2016    NaN\n",
            "105          Pandora Orr   Philosophy  02/06/2016   91.0\n",
            "106      Stuart Crawford   Philosophy  02/06/2016   63.0\n",
            "107        Winter Mendez   Philosophy  02/06/2016   16.0\n",
            "108          Elijah Goff   Philosophy  02/06/2016   10.0\n",
            "109     Chiquita Gilmore   Philosophy  02/06/2016   23.0\n",
            "110      Eleanor Gregory   Philosophy  02/06/2016   72.0\n",
            "111         Justine Soto   Philosophy  02/06/2016   93.0\n",
            "112      Stuart Mcdaniel   Philosophy  02/06/2016   10.0\n",
            "113     Shaeleigh Dunlap   Philosophy  02/06/2016   99.0\n",
            "114        Lesley Bolton   Philosophy  02/06/2016   67.0\n",
            "115        Shellie Davis   Philosophy  02/06/2016   81.0\n",
            "116         Tarik Jarvis   Philosophy  02/06/2016   40.0\n",
            "117           Adria Ball   Philosophy  02/06/2016   23.0\n",
            "118        Daryl Tillman   Philosophy  02/06/2016   65.0\n",
            "119           Magee Tate   Philosophy  02/06/2016   24.0\n",
            "120       Jordan Beasley   Philosophy  02/06/2016   62.0\n",
            "121        Dalton Becker   Philosophy  02/06/2016   41.0\n",
            "122        Derek Burnett   Philosophy  02/06/2016   42.0\n",
            "123         Halla Little   Philosophy  02/06/2016    8.0\n",
            "124            Lani Pate   Philosophy  02/06/2016   91.0\n",
            "125          Moses Chang   Philosophy  02/06/2016   69.0\n",
            "126         Travis Weeks   Philosophy  02/06/2016   47.0\n",
            "127       Nichole Ortega   Philosophy  02/06/2016    0.0\n",
            "128         Hasad Berger   Philosophy  02/06/2016   42.0\n",
            "129          Galvin Hall   Philosophy  02/06/2016   65.0\n",
            "130       Kieran English   Philosophy  02/06/2016   42.0\n",
            "131            Ella Dunn   Philosophy  02/06/2016   32.0\n",
            "132       Jermaine Roman   Philosophy  02/06/2016   33.0\n",
            "133   Chadwick Armstrong   Philosophy  02/06/2016    4.0\n",
            "134         Rhonda Ellis   Philosophy  02/06/2016   27.0\n",
            "135          Ezra Brooks   Philosophy  02/06/2016   56.0\n",
            "136    Jessamine Trevino   Philosophy  02/06/2016   36.0\n",
            "137       Chaim Garrison   Philosophy  02/06/2016   51.0\n",
            "138           Bo Leonard   Philosophy  02/06/2016   71.0\n",
            "139        May Christian   Philosophy  02/06/2016   52.0\n",
            "140     Ashton Nicholson      Physics  10/06/2016   69.0\n",
            "141      Solomon Rollins      Physics  10/06/2016   95.0\n",
            "142      Wesley Jacobson      Physics  10/06/2016   33.0\n",
            "143          Laura Gomez      Physics  10/06/2016   76.0\n",
            "144         Cora Fuentes      Physics  10/06/2016   20.0\n",
            "145      Deirdre Flowers      Physics  10/06/2016   10.0\n",
            "146         Yen Rutledge      Physics  10/06/2016   67.0\n",
            "147     Vladimir Delgado      Physics  10/06/2016   80.0\n",
            "148        Hedley Brewer      Physics  10/06/2016   22.0\n",
            "149       Lillian Massey      Physics  10/06/2016    8.0\n",
            "150         James Walker      Physics  10/06/2016  100.0\n",
            "151          Raja Conley      Physics  10/06/2016   49.0\n",
            "152        Xavier Coffey      Physics  10/06/2016   70.0\n",
            "153           Ian Sawyer      Physics  10/06/2016   86.0\n",
            "154       Branden Hansen      Physics  10/06/2016   15.0\n",
            "155       Yoshio Schultz      Physics  10/06/2016   95.0\n",
            "156        Jamal Mercado      Physics  10/06/2016   67.0\n",
            "157       Ishmael Zamora      Physics  10/06/2016   20.0\n",
            "158       Kristen Potter      Physics  10/06/2016   31.0\n",
            "159      Unity Rodriquez      Physics  10/06/2016   48.0\n",
            "160            Mia Barry      Physics  10/06/2016   26.0\n",
            "161        Vincent Byers    Sociology  21/06/2016   70.0\n",
            "162        Rogan Edwards    Sociology  21/06/2016   37.0\n",
            "163       Darrel Wallace    Sociology  21/06/2016   68.0\n",
            "164         Colin Adkins    Sociology  21/06/2016   60.0\n",
            "165            Hop Cantu    Sociology  21/06/2016   98.0\n",
            "166          Nita Valdez    Sociology  21/06/2016   20.0\n",
            "167        Georgia Gomez    Sociology  21/06/2016   32.0\n",
            "168       Shannon Fields    Sociology  21/06/2016   40.0\n",
            "169       Jennifer Keith    Sociology  21/06/2016   97.0\n",
            "170            Keane Cox    Sociology  21/06/2016    1.0\n",
            "171          Sage Foster    Sociology  21/06/2016    6.0\n",
            "172          Ezra Hoover    Sociology  21/06/2016   39.0\n",
            "173         Burton Burke    Sociology  21/06/2016   68.0\n",
            "174      Preston Barrera    Sociology  21/06/2016   37.0\n",
            "175       Octavia Monroe    Sociology  21/06/2016   37.0\n",
            "176       Kirestin Sweet    Sociology  21/06/2016   90.0\n",
            "177    Octavius Chambers    Sociology  21/06/2016   38.0\n",
            "178         Grady Decker    Sociology  21/06/2016   87.0\n",
            "179     Jenette Humphrey    Sociology  21/06/2016   45.0\n",
            "180         James Walker    Sociology  21/06/2016   73.0\n",
            "181    Mohammad Cantrell    Sociology  21/06/2016   36.0\n",
            "182        Alma Richmond    Sociology  21/06/2016   35.0\n",
            "183         Galena Mayer    Sociology  21/06/2016   85.0\n",
            "184          Reese Black    Sociology  21/06/2016    7.0\n",
            "185         Phillip Ward    Sociology  21/06/2016   67.0\n",
            "186    Priscilla Higgins    Sociology  21/06/2016   80.0\n",
            "187        Yael Trujillo    Sociology  21/06/2016   55.0\n",
            "188  Demetrius Castaneda          NaN  21/06/2016   67.0\n",
            "189         Todd Dillard    Sociology  21/06/2016   67.0\n",
            "190         Noelle Marsh    Sociology  21/06/2016   27.0\n",
            "191           Akeem Chan    Sociology  21/06/2016   94.0\n",
            "192        Victoria Long    Sociology  21/06/2016   96.0\n",
            "193     Brooke Zimmerman    Sociology  21/06/2016   99.0\n",
            "194        Cadman Greene    Sociology  21/06/2016   64.0\n",
            "195           Yen Bowers    Sociology  21/06/2016   52.0\n",
            "196            Ryan Pena    Sociology  21/06/2016   16.0\n",
            "197      Portia Hamilton    Sociology  21/06/2016   34.0\n",
            "198      Sydnee Chambers    Sociology  21/06/2016   76.0\n",
            "199          Stacy Small    Sociology  21/06/2016   96.0\n"
          ]
        }
      ]
    },
    {
      "cell_type": "code",
      "source": [
        "print(df[df.isnull().any(axis=1)])"
      ],
      "metadata": {
        "colab": {
          "base_uri": "https://localhost:8080/"
        },
        "id": "XjtIAIXqNhzg",
        "outputId": "587ccbfe-c540-4d54-80f3-caaab501f3c8"
      },
      "execution_count": null,
      "outputs": [
        {
          "output_type": "stream",
          "name": "stdout",
          "text": [
            "            Student name    Exam name   Exam date  Marks\n",
            "47           Ryan Herman    Chemistry  15/06/2016    NaN\n",
            "78         Nelle Skinner  Mathematics  29/07/2016    NaN\n",
            "104            Myra Wall   Philosophy  02/06/2016    NaN\n",
            "188  Demetrius Castaneda          NaN  21/06/2016   67.0\n"
          ]
        }
      ]
    },
    {
      "cell_type": "code",
      "source": [
        "print(new_df.to_string())"
      ],
      "metadata": {
        "colab": {
          "base_uri": "https://localhost:8080/"
        },
        "id": "98rgcx2PPCh3",
        "outputId": "8702c5ee-fc0f-4988-fbe9-68ebab56e967"
      },
      "execution_count": null,
      "outputs": [
        {
          "output_type": "stream",
          "name": "stdout",
          "text": [
            "           Student name    Exam name   Exam date  Marks\n",
            "0          James Walker      Biology  05/06/2016   31.0\n",
            "1         Velma Clemons      Biology  05/06/2016   43.0\n",
            "2        Kibo Underwood      Biology  05/06/2016   81.0\n",
            "3           Louis Mcgee      Biology  05/06/2016   11.0\n",
            "4          Phyllis Paul      Biology  05/06/2016   18.0\n",
            "5        Zenaida Decker      Biology  05/06/2016   55.0\n",
            "6       Gillian Tillman      Biology  05/06/2016   38.0\n",
            "7       Constance Boone      Biology  05/06/2016   16.0\n",
            "8     Giselle Lancaster      Biology  05/06/2016   73.0\n",
            "9      Kirsten Mcdowell      Biology  05/06/2016   16.0\n",
            "10          Solomon Ray      Biology  05/06/2016   23.0\n",
            "11        John Marshall      Biology  05/06/2016   55.0\n",
            "12       Merrill Carney      Biology  05/06/2016   71.0\n",
            "13     Hakeem Gillespie      Biology  05/06/2016   12.0\n",
            "14         Hayden Boyer      Biology  05/06/2016   77.0\n",
            "15       Griffin Mcleod      Biology  05/06/2016   19.0\n",
            "16     Allistair Patton      Biology  05/06/2016   57.0\n",
            "17          Rina Slater      Biology  05/06/2016   78.0\n",
            "18     Caldwell Skinner      Biology  05/06/2016   92.0\n",
            "19      Portia Galloway      Biology  05/06/2016   23.0\n",
            "20     Noelle Valentine      Biology  05/06/2016   62.0\n",
            "21            Abel Clay      Biology  05/06/2016    1.0\n",
            "22       Stephanie Kent      Biology  05/06/2016  100.0\n",
            "23           Axel Petty      Biology  05/06/2016   49.0\n",
            "24       Nevada Morales      Biology  05/06/2016   41.0\n",
            "25          Fuller Bush      Biology  05/06/2016   47.0\n",
            "26           Quinn Mayo      Biology  05/06/2016   24.0\n",
            "27       Marcia Shepard      Biology  05/06/2016   33.0\n",
            "28         Kieran Moody      Biology  05/06/2016   45.0\n",
            "29     Brielle Thompson      Biology  05/06/2016   41.0\n",
            "30           Hashim Gay      Biology  05/06/2016   78.0\n",
            "31      Deborah Roberts      Biology  05/06/2016   25.0\n",
            "32      Nomlanga Clarke      Biology  05/06/2016   44.0\n",
            "33         Elaine Downs      Biology  05/06/2016   86.0\n",
            "34     Christen Ballard      Biology  05/06/2016   97.0\n",
            "35         Dacey Baxter      Biology  05/06/2016   35.0\n",
            "36        Nasim Sampson      Biology  05/06/2016   75.0\n",
            "37        Yoshi Sherman      Biology  05/06/2016   48.0\n",
            "38          Veda Malone    Chemistry  15/06/2016   52.0\n",
            "39      Scarlett Fisher    Chemistry  15/06/2016   20.0\n",
            "40     Meredith Parsons    Chemistry  15/06/2016   32.0\n",
            "41       Jerome Buckley    Chemistry  15/06/2016   19.0\n",
            "42         James Walker    Chemistry  15/06/2016   61.0\n",
            "43     Gisela Robertson    Chemistry  15/06/2016   34.0\n",
            "44          Sylvia Kent    Chemistry  15/06/2016    9.0\n",
            "45        Mercedes King    Chemistry  15/06/2016   22.0\n",
            "46         Logan Madden    Chemistry  15/06/2016   46.0\n",
            "48         Cora Frazier    Chemistry  15/06/2016   92.0\n",
            "49       Yolanda Carter    Chemistry  15/06/2016    1.0\n",
            "50        Hadassah Lowe    Chemistry  15/06/2016   84.0\n",
            "51          Ingrid Yang    Chemistry  15/06/2016   63.0\n",
            "52        Trevor Spence    Chemistry  15/06/2016   59.0\n",
            "53            Iola West    Chemistry  15/06/2016   61.0\n",
            "54         Kitra Sparks    Chemistry  15/06/2016   47.0\n",
            "55           Carly Bray    Chemistry  15/06/2016   27.0\n",
            "56        Leilani Beard    Chemistry  15/06/2016   99.0\n",
            "57        Cameron Bowen    Chemistry  15/06/2016   84.0\n",
            "58         Hilda Oneill    Chemistry  15/06/2016   95.0\n",
            "59            Ori Short    Chemistry  15/06/2016   50.0\n",
            "60      Xandra Cardenas    Chemistry  15/06/2016   27.0\n",
            "61          Audrey Todd    Chemistry  15/06/2016   39.0\n",
            "62      Ferdinand Lloyd    Chemistry  15/06/2016   71.0\n",
            "63      Kareem Mcdowell    Chemistry  15/06/2016   83.0\n",
            "64          Aaron Giles    Chemistry  15/06/2016   38.0\n",
            "65      Keefe Schneider  Mathematics  29/07/2016   48.0\n",
            "66       Kasper Ballard  Mathematics  29/07/2016    5.0\n",
            "67         Maris Turner  Mathematics  29/07/2016    7.0\n",
            "68        Ava Robertson  Mathematics  29/07/2016   70.0\n",
            "69       Gillian Benton  Mathematics  29/07/2016   73.0\n",
            "70          Dora Landry  Mathematics  29/07/2016   59.0\n",
            "71         James Walker  Mathematics  29/07/2016   23.0\n",
            "72          Iola Sutton  Mathematics  29/07/2016   72.0\n",
            "73            Jana Reed  Mathematics  29/07/2016   31.0\n",
            "74         Alfonso Love  Mathematics  29/07/2016   74.0\n",
            "75        Ciaran Mosley  Mathematics  29/07/2016   91.0\n",
            "76         Justin Evans  Mathematics  29/07/2016   53.0\n",
            "77          Ryder Combs  Mathematics  29/07/2016   56.0\n",
            "79        Jakeem Rivera  Mathematics  29/07/2016  100.0\n",
            "80           Hyatt Long  Mathematics  29/07/2016   50.0\n",
            "81      Tanisha Stanton  Mathematics  29/07/2016   60.0\n",
            "82         Alec Pittman  Mathematics  29/07/2016   38.0\n",
            "83       Octavia Ashley  Mathematics  29/07/2016   33.0\n",
            "84       Curran Merrill  Mathematics  29/07/2016   75.0\n",
            "85          Laith Gibbs  Mathematics  29/07/2016   74.0\n",
            "86       Walter Skinner  Mathematics  29/07/2016    7.0\n",
            "87           Burke Horn  Mathematics  29/07/2016    6.0\n",
            "88     Alexander Walton  Mathematics  29/07/2016   40.0\n",
            "89      Cally Wilkinson  Mathematics  29/07/2016   14.0\n",
            "90        Gary Mcintosh  Mathematics  29/07/2016   16.0\n",
            "91          Jacob Greer  Mathematics  29/07/2016   31.0\n",
            "92   Fitzgerald Mueller  Mathematics  29/07/2016   72.0\n",
            "93       Claire Roberts  Mathematics  29/07/2016   48.0\n",
            "94        Kuame Harrell  Mathematics  29/07/2016   53.0\n",
            "95         Kaseem Hurst  Mathematics  29/07/2016   67.0\n",
            "96           Irene Witt  Mathematics  29/07/2016   23.0\n",
            "97        Courtney Nash  Mathematics  29/07/2016   90.0\n",
            "98          Lane Torres  Mathematics  29/07/2016   87.0\n",
            "99         Jonas Vinson  Mathematics  29/07/2016   40.0\n",
            "100       Burton Holden  Mathematics  29/07/2016   26.0\n",
            "101         Connor Shaw  Mathematics  29/07/2016   51.0\n",
            "102       Calvin Riddle   Philosophy  02/06/2016   35.0\n",
            "103         Tara Mendez   Philosophy  02/06/2016   66.0\n",
            "105         Pandora Orr   Philosophy  02/06/2016   91.0\n",
            "106     Stuart Crawford   Philosophy  02/06/2016   63.0\n",
            "107       Winter Mendez   Philosophy  02/06/2016   16.0\n",
            "108         Elijah Goff   Philosophy  02/06/2016   10.0\n",
            "109    Chiquita Gilmore   Philosophy  02/06/2016   23.0\n",
            "110     Eleanor Gregory   Philosophy  02/06/2016   72.0\n",
            "111        Justine Soto   Philosophy  02/06/2016   93.0\n",
            "112     Stuart Mcdaniel   Philosophy  02/06/2016   10.0\n",
            "113    Shaeleigh Dunlap   Philosophy  02/06/2016   99.0\n",
            "114       Lesley Bolton   Philosophy  02/06/2016   67.0\n",
            "115       Shellie Davis   Philosophy  02/06/2016   81.0\n",
            "116        Tarik Jarvis   Philosophy  02/06/2016   40.0\n",
            "117          Adria Ball   Philosophy  02/06/2016   23.0\n",
            "118       Daryl Tillman   Philosophy  02/06/2016   65.0\n",
            "119          Magee Tate   Philosophy  02/06/2016   24.0\n",
            "120      Jordan Beasley   Philosophy  02/06/2016   62.0\n",
            "121       Dalton Becker   Philosophy  02/06/2016   41.0\n",
            "122       Derek Burnett   Philosophy  02/06/2016   42.0\n",
            "123        Halla Little   Philosophy  02/06/2016    8.0\n",
            "124           Lani Pate   Philosophy  02/06/2016   91.0\n",
            "125         Moses Chang   Philosophy  02/06/2016   69.0\n",
            "126        Travis Weeks   Philosophy  02/06/2016   47.0\n",
            "127      Nichole Ortega   Philosophy  02/06/2016    0.0\n",
            "128        Hasad Berger   Philosophy  02/06/2016   42.0\n",
            "129         Galvin Hall   Philosophy  02/06/2016   65.0\n",
            "130      Kieran English   Philosophy  02/06/2016   42.0\n",
            "131           Ella Dunn   Philosophy  02/06/2016   32.0\n",
            "132      Jermaine Roman   Philosophy  02/06/2016   33.0\n",
            "133  Chadwick Armstrong   Philosophy  02/06/2016    4.0\n",
            "134        Rhonda Ellis   Philosophy  02/06/2016   27.0\n",
            "135         Ezra Brooks   Philosophy  02/06/2016   56.0\n",
            "136   Jessamine Trevino   Philosophy  02/06/2016   36.0\n",
            "137      Chaim Garrison   Philosophy  02/06/2016   51.0\n",
            "138          Bo Leonard   Philosophy  02/06/2016   71.0\n",
            "139       May Christian   Philosophy  02/06/2016   52.0\n",
            "140    Ashton Nicholson      Physics  10/06/2016   69.0\n",
            "141     Solomon Rollins      Physics  10/06/2016   95.0\n",
            "142     Wesley Jacobson      Physics  10/06/2016   33.0\n",
            "143         Laura Gomez      Physics  10/06/2016   76.0\n",
            "144        Cora Fuentes      Physics  10/06/2016   20.0\n",
            "145     Deirdre Flowers      Physics  10/06/2016   10.0\n",
            "146        Yen Rutledge      Physics  10/06/2016   67.0\n",
            "147    Vladimir Delgado      Physics  10/06/2016   80.0\n",
            "148       Hedley Brewer      Physics  10/06/2016   22.0\n",
            "149      Lillian Massey      Physics  10/06/2016    8.0\n",
            "150        James Walker      Physics  10/06/2016  100.0\n",
            "151         Raja Conley      Physics  10/06/2016   49.0\n",
            "152       Xavier Coffey      Physics  10/06/2016   70.0\n",
            "153          Ian Sawyer      Physics  10/06/2016   86.0\n",
            "154      Branden Hansen      Physics  10/06/2016   15.0\n",
            "155      Yoshio Schultz      Physics  10/06/2016   95.0\n",
            "156       Jamal Mercado      Physics  10/06/2016   67.0\n",
            "157      Ishmael Zamora      Physics  10/06/2016   20.0\n",
            "158      Kristen Potter      Physics  10/06/2016   31.0\n",
            "159     Unity Rodriquez      Physics  10/06/2016   48.0\n",
            "160           Mia Barry      Physics  10/06/2016   26.0\n",
            "161       Vincent Byers    Sociology  21/06/2016   70.0\n",
            "162       Rogan Edwards    Sociology  21/06/2016   37.0\n",
            "163      Darrel Wallace    Sociology  21/06/2016   68.0\n",
            "164        Colin Adkins    Sociology  21/06/2016   60.0\n",
            "165           Hop Cantu    Sociology  21/06/2016   98.0\n",
            "166         Nita Valdez    Sociology  21/06/2016   20.0\n",
            "167       Georgia Gomez    Sociology  21/06/2016   32.0\n",
            "168      Shannon Fields    Sociology  21/06/2016   40.0\n",
            "169      Jennifer Keith    Sociology  21/06/2016   97.0\n",
            "170           Keane Cox    Sociology  21/06/2016    1.0\n",
            "171         Sage Foster    Sociology  21/06/2016    6.0\n",
            "172         Ezra Hoover    Sociology  21/06/2016   39.0\n",
            "173        Burton Burke    Sociology  21/06/2016   68.0\n",
            "174     Preston Barrera    Sociology  21/06/2016   37.0\n",
            "175      Octavia Monroe    Sociology  21/06/2016   37.0\n",
            "176      Kirestin Sweet    Sociology  21/06/2016   90.0\n",
            "177   Octavius Chambers    Sociology  21/06/2016   38.0\n",
            "178        Grady Decker    Sociology  21/06/2016   87.0\n",
            "179    Jenette Humphrey    Sociology  21/06/2016   45.0\n",
            "180        James Walker    Sociology  21/06/2016   73.0\n",
            "181   Mohammad Cantrell    Sociology  21/06/2016   36.0\n",
            "182       Alma Richmond    Sociology  21/06/2016   35.0\n",
            "183        Galena Mayer    Sociology  21/06/2016   85.0\n",
            "184         Reese Black    Sociology  21/06/2016    7.0\n",
            "185        Phillip Ward    Sociology  21/06/2016   67.0\n",
            "186   Priscilla Higgins    Sociology  21/06/2016   80.0\n",
            "187       Yael Trujillo    Sociology  21/06/2016   55.0\n",
            "189        Todd Dillard    Sociology  21/06/2016   67.0\n",
            "190        Noelle Marsh    Sociology  21/06/2016   27.0\n",
            "191          Akeem Chan    Sociology  21/06/2016   94.0\n",
            "192       Victoria Long    Sociology  21/06/2016   96.0\n",
            "193    Brooke Zimmerman    Sociology  21/06/2016   99.0\n",
            "194       Cadman Greene    Sociology  21/06/2016   64.0\n",
            "195          Yen Bowers    Sociology  21/06/2016   52.0\n",
            "196           Ryan Pena    Sociology  21/06/2016   16.0\n",
            "197     Portia Hamilton    Sociology  21/06/2016   34.0\n",
            "198     Sydnee Chambers    Sociology  21/06/2016   76.0\n",
            "199         Stacy Small    Sociology  21/06/2016   96.0\n"
          ]
        }
      ]
    },
    {
      "cell_type": "markdown",
      "source": [
        "**Part C** - Print all the marks along with the subject for the student named \"James Walker\""
      ],
      "metadata": {
        "id": "2kd9zAX6wkXM"
      }
    },
    {
      "cell_type": "code",
      "source": [
        "print(new_df[new_df['Student name'] == 'James Walker'][['Student name','Exam name', 'Marks']])"
      ],
      "metadata": {
        "id": "N0HWJN-PwuSo",
        "colab": {
          "base_uri": "https://localhost:8080/"
        },
        "outputId": "19e2ec83-d6d5-4297-cfb8-655c54599c8a"
      },
      "execution_count": null,
      "outputs": [
        {
          "output_type": "stream",
          "name": "stdout",
          "text": [
            "     Student name    Exam name  Marks\n",
            "0    James Walker      Biology   31.0\n",
            "42   James Walker    Chemistry   61.0\n",
            "71   James Walker  Mathematics   23.0\n",
            "150  James Walker      Physics  100.0\n",
            "180  James Walker    Sociology   73.0\n"
          ]
        }
      ]
    },
    {
      "cell_type": "markdown",
      "source": [
        "---\n",
        "## Question 3\n",
        "---"
      ],
      "metadata": {
        "id": "ts8Y1EXmwzhf"
      }
    },
    {
      "cell_type": "markdown",
      "source": [
        "**Part A** - From the DataFrame created in Question 2, calculate the average marks for each subject"
      ],
      "metadata": {
        "id": "PJENm_hpw3GQ"
      }
    },
    {
      "cell_type": "code",
      "source": [
        "print(new_df.groupby('Exam name').mean())"
      ],
      "metadata": {
        "id": "AxhCtST5xS3L",
        "colab": {
          "base_uri": "https://localhost:8080/"
        },
        "outputId": "26d62f0f-4b0c-4963-d9c3-bb1391658e3a"
      },
      "execution_count": null,
      "outputs": [
        {
          "output_type": "stream",
          "name": "stdout",
          "text": [
            "                 Marks\n",
            "Exam name             \n",
            "Biology      47.894737\n",
            "Chemistry    50.576923\n",
            "Mathematics  48.972222\n",
            "Philosophy   47.270270\n",
            "Physics      51.761905\n",
            "Sociology    56.026316\n"
          ]
        }
      ]
    },
    {
      "cell_type": "markdown",
      "source": [
        "**Part B** - Using the averages you just calculated, plot a Bar Graph showing the average marks of each subject"
      ],
      "metadata": {
        "id": "NDlaA7hHxUBc"
      }
    },
    {
      "cell_type": "code",
      "source": [
        "import matplotlib.pyplot as plt\n",
        "   \n",
        "new_df.groupby('Exam name').mean().plot(kind = 'bar')\n",
        "plt.show()"
      ],
      "metadata": {
        "id": "LWoPFZBOyyNn",
        "colab": {
          "base_uri": "https://localhost:8080/",
          "height": 334
        },
        "outputId": "995ab1d1-6963-451e-b85e-16d38aba10cb"
      },
      "execution_count": null,
      "outputs": [
        {
          "output_type": "display_data",
          "data": {
            "text/plain": [
              "<Figure size 432x288 with 1 Axes>"
            ],
            "image/png": "[encoded data removed]"
          },
          "metadata": {
            "needs_background": "light"
          }
        }
      ]
    },
    {
      "cell_type": "markdown",
      "source": [
        "---\n",
        "## Question 4\n",
        "---"
      ],
      "metadata": {
        "id": "dWlOSOIs6d1R"
      }
    },
    {
      "cell_type": "markdown",
      "source": [
        "**Part A** - Import the file \"CatData.csv\" and preprocess it to remove any null values"
      ],
      "metadata": {
        "id": "b4s-pN4v6kgb"
      }
    },
    {
      "cell_type": "code",
      "source": [
        "import pandas as pd\n",
        "\n",
        "cat_df = pd.read_csv('CatData.csv')"
      ],
      "metadata": {
        "id": "mvZ3xrBV9b1s"
      },
      "execution_count": null,
      "outputs": []
    },
    {
      "cell_type": "code",
      "source": [
        "cat_df"
      ],
      "metadata": {
        "colab": {
          "base_uri": "https://localhost:8080/",
          "height": 655
        },
        "id": "5btHxPXszX4p",
        "outputId": "886e6e4e-f806-4197-fa50-40fde9c12d51"
      },
      "execution_count": null,
      "outputs": [
        {
          "output_type": "execute_result",
          "data": {
            "text/plain": [
              "     Tail Length (cm)  Mass (kg)\n",
              "0                18.1      3.750\n",
              "1                18.6      3.800\n",
              "2                19.5      3.250\n",
              "3                19.3      3.450\n",
              "4                19.0      3.650\n",
              "..                ...        ...\n",
              "337              20.7      4.000\n",
              "338              20.2      3.400\n",
              "339              19.3      3.775\n",
              "340              21.0      4.100\n",
              "341              19.8      3.775\n",
              "\n",
              "[342 rows x 2 columns]"
            ],
            "text/html": [
              "\n",
              "  <div id=\"df-49c7e00e-0c7a-438e-b506-12ae92214973\">\n",
              "    <div class=\"colab-df-container\">\n",
              "      <div>\n",
              "<style scoped>\n",
              "    .dataframe tbody tr th:only-of-type {\n",
              "        vertical-align: middle;\n",
              "    }\n",
              "\n",
              "    .dataframe tbody tr th {\n",
              "        vertical-align: top;\n",
              "    }\n",
              "\n",
              "    .dataframe thead th {\n",
              "        text-align: right;\n",
              "    }\n",
              "</style>\n",
              "<table border=\"1\" class=\"dataframe\">\n",
              "  <thead>\n",
              "    <tr style=\"text-align: right;\">\n",
              "      <th></th>\n",
              "      <th>Tail Length (cm)</th>\n",
              "      <th>Mass (kg)</th>\n",
              "    </tr>\n",
              "  </thead>\n",
              "  <tbody>\n",
              "    <tr>\n",
              "      <th>0</th>\n",
              "      <td>18.1</td>\n",
              "      <td>3.750</td>\n",
              "    </tr>\n",
              "    <tr>\n",
              "      <th>1</th>\n",
              "      <td>18.6</td>\n",
              "      <td>3.800</td>\n",
              "    </tr>\n",
              "    <tr>\n",
              "      <th>2</th>\n",
              "      <td>19.5</td>\n",
              "      <td>3.250</td>\n",
              "    </tr>\n",
              "    <tr>\n",
              "      <th>3</th>\n",
              "      <td>19.3</td>\n",
              "      <td>3.450</td>\n",
              "    </tr>\n",
              "    <tr>\n",
              "      <th>4</th>\n",
              "      <td>19.0</td>\n",
              "      <td>3.650</td>\n",
              "    </tr>\n",
              "    <tr>\n",
              "      <th>...</th>\n",
              "      <td>...</td>\n",
              "      <td>...</td>\n",
              "    </tr>\n",
              "    <tr>\n",
              "      <th>337</th>\n",
              "      <td>20.7</td>\n",
              "      <td>4.000</td>\n",
              "    </tr>\n",
              "    <tr>\n",
              "      <th>338</th>\n",
              "      <td>20.2</td>\n",
              "      <td>3.400</td>\n",
              "    </tr>\n",
              "    <tr>\n",
              "      <th>339</th>\n",
              "      <td>19.3</td>\n",
              "      <td>3.775</td>\n",
              "    </tr>\n",
              "    <tr>\n",
              "      <th>340</th>\n",
              "      <td>21.0</td>\n",
              "      <td>4.100</td>\n",
              "    </tr>\n",
              "    <tr>\n",
              "      <th>341</th>\n",
              "      <td>19.8</td>\n",
              "      <td>3.775</td>\n",
              "    </tr>\n",
              "  </tbody>\n",
              "</table>\n",
              "<p>342 rows × 2 columns</p>\n",
              "</div>\n",
              "      <button class=\"colab-df-convert\" onclick=\"convertToInteractive('df-49c7e00e-0c7a-438e-b506-12ae92214973')\"\n",
              "              title=\"Convert this dataframe to an interactive table.\"\n",
              "              style=\"display:none;\">\n",
              "        \n",
              "  <svg xmlns=\"http://www.w3.org/2000/svg\" height=\"24px\"viewBox=\"0 0 24 24\"\n",
              "       width=\"24px\">\n",
              "    <path d=\"M0 0h24v24H0V0z\" fill=\"none\"/>\n",
              "    <path d=\"M18.56 5.44l.94 2.06.94-2.06 2.06-.94-2.06-.94-.94-2.06-.94 2.06-2.06.94zm-11 1L8.5 8.5l.94-2.06 2.06-.94-2.06-.94L8.5 2.5l-.94 2.06-2.06.94zm10 10l.94 2.06.94-2.06 2.06-.94-2.06-.94-.94-2.06-.94 2.06-2.06.94z\"/><path d=\"M17.41 7.96l-1.37-1.37c-.4-.4-.92-.59-1.43-.59-.52 0-1.04.2-1.43.59L10.3 9.45l-7.72 7.72c-.78.78-.78 2.05 0 2.83L4 21.41c.39.39.9.59 1.41.59.51 0 1.02-.2 1.41-.59l7.78-7.78 2.81-2.81c.8-.78.8-2.07 0-2.86zM5.41 20L4 18.59l7.72-7.72 1.47 1.35L5.41 20z\"/>\n",
              "  </svg>\n",
              "      </button>\n",
              "      \n",
              "  <style>\n",
              "    .colab-df-container {\n",
              "      display:flex;\n",
              "      flex-wrap:wrap;\n",
              "      gap: 12px;\n",
              "    }\n",
              "\n",
              "    .colab-df-convert {\n",
              "      background-color: #E8F0FE;\n",
              "      border: none;\n",
              "      border-radius: 50%;\n",
              "      cursor: pointer;\n",
              "      display: none;\n",
              "      fill: #1967D2;\n",
              "      height: 32px;\n",
              "      padding: 0 0 0 0;\n",
              "      width: 32px;\n",
              "    }\n",
              "\n",
              "    .colab-df-convert:hover {\n",
              "      background-color: #E2EBFA;\n",
              "      box-shadow: 0px 1px 2px rgba(60, 64, 67, 0.3), 0px 1px 3px 1px rgba(60, 64, 67, 0.15);\n",
              "      fill: #174EA6;\n",
              "    }\n",
              "\n",
              "    [theme=dark] .colab-df-convert {\n",
              "      background-color: #3B4455;\n",
              "      fill: #D2E3FC;\n",
              "    }\n",
              "\n",
              "    [theme=dark] .colab-df-convert:hover {\n",
              "      background-color: #434B5C;\n",
              "      box-shadow: 0px 1px 3px 1px rgba(0, 0, 0, 0.15);\n",
              "      filter: drop-shadow(0px 1px 2px rgba(0, 0, 0, 0.3));\n",
              "      fill: #FFFFFF;\n",
              "    }\n",
              "  </style>\n",
              "\n",
              "      <script>\n",
              "        const buttonEl =\n",
              "          document.querySelector('#df-49c7e00e-0c7a-438e-b506-12ae92214973 button.colab-df-convert');\n",
              "        buttonEl.style.display =\n",
              "          google.colab.kernel.accessAllowed ? 'block' : 'none';\n",
              "\n",
              "        async function convertToInteractive(key) {\n",
              "          const element = document.querySelector('#df-49c7e00e-0c7a-438e-b506-12ae92214973');\n",
              "          const dataTable =\n",
              "            await google.colab.kernel.invokeFunction('convertToInteractive',\n",
              "                                                     [key], {});\n",
              "          if (!dataTable) return;\n",
              "\n",
              "          const docLinkHtml = 'Like what you see? Visit the ' +\n",
              "            '<a target=\"_blank\" href=https://colab.research.google.com/notebooks/data_table.ipynb>data table notebook</a>'\n",
              "            + ' to learn more about interactive tables.';\n",
              "          element.innerHTML = '';\n",
              "          dataTable['output_type'] = 'display_data';\n",
              "          await google.colab.output.renderOutput(dataTable, element);\n",
              "          const docLink = document.createElement('div');\n",
              "          docLink.innerHTML = docLinkHtml;\n",
              "          element.appendChild(docLink);\n",
              "        }\n",
              "      </script>\n",
              "    </div>\n",
              "  </div>\n",
              "  "
            ]
          },
          "metadata": {},
          "execution_count": 2
        }
      ]
    },
    {
      "cell_type": "markdown",
      "source": [
        "**This contains no null values**"
      ],
      "metadata": {
        "id": "BamYIB7tz_fE"
      }
    },
    {
      "cell_type": "code",
      "source": [
        "print(cat_df[cat_df.isnull().any(axis=1)])"
      ],
      "metadata": {
        "colab": {
          "base_uri": "https://localhost:8080/"
        },
        "id": "dfeA6I7Lz3gH",
        "outputId": "a2931e48-5a84-4591-9d85-bbf099b60335"
      },
      "execution_count": null,
      "outputs": [
        {
          "output_type": "stream",
          "name": "stdout",
          "text": [
            "Empty DataFrame\n",
            "Columns: [Tail Length (cm), Mass (kg)]\n",
            "Index: []\n"
          ]
        }
      ]
    },
    {
      "cell_type": "markdown",
      "source": [
        "**Part B** - Identify the independant and dependant variables (comment answer below)"
      ],
      "metadata": {
        "id": "bWxuB3ep9SWA"
      }
    },
    {
      "cell_type": "code",
      "source": [
        "# dependant variable: Trail length (cm)\n",
        "# independant variable: Mass  (Kg)"
      ],
      "metadata": {
        "id": "TS9tvuRt9cWr"
      },
      "execution_count": null,
      "outputs": []
    },
    {
      "cell_type": "markdown",
      "source": [
        "**Part C** - Create a linear regression model using sklearn and fit it to the data you just imported\n"
      ],
      "metadata": {
        "id": "xPHVA3cX7uk9"
      }
    },
    {
      "cell_type": "code",
      "source": [
        "from sklearn import linear_model\n",
        "import numpy as np\n",
        "data = cat_df[['Tail Length (cm)', 'Mass (kg)']]"
      ],
      "metadata": {
        "id": "WYVNRotH9cyo"
      },
      "execution_count": null,
      "outputs": []
    },
    {
      "cell_type": "code",
      "source": [
        "num = int(len(data) * 0.8)\n",
        "\n",
        "\n",
        "train = data[: num]\n",
        "\n",
        "test = data[num: ]\n",
        "\n",
        "print(\"Data:  \", len(data))\n",
        "print(\"Train: \", len(train))\n",
        "print(\"Test: \", len(test))"
      ],
      "metadata": {
        "colab": {
          "base_uri": "https://localhost:8080/"
        },
        "id": "AXNt4jaA1Zg4",
        "outputId": "21ecde60-2a11-4f85-ca71-1e79d0f867ae"
      },
      "execution_count": null,
      "outputs": [
        {
          "output_type": "stream",
          "name": "stdout",
          "text": [
            "Data:   342\n",
            "Train:  273\n",
            "Test:  69\n"
          ]
        }
      ]
    },
    {
      "cell_type": "code",
      "source": [
        "regr = linear_model.LinearRegression()\n",
        "\n",
        "train_x = np.array(train[['Tail Length (cm)']])\n",
        "train_y = np.array(train[['Mass (kg)']])\n",
        "\n",
        "regr.fit(train_x, train_y)\n",
        "\n",
        "coefficients = regr.coef_\n",
        "intercept = regr.intercept_"
      ],
      "metadata": {
        "colab": {
          "base_uri": "https://localhost:8080/"
        },
        "id": "cymUwPx93atJ",
        "outputId": "e3e0f833-1861-47cd-c3e8-f8fd2939d414"
      },
      "execution_count": null,
      "outputs": [
        {
          "output_type": "stream",
          "name": "stdout",
          "text": [
            "Slope is:  [[0.48913766]]\n",
            "Intercept is:  [-5.57328662]\n"
          ]
        }
      ]
    },
    {
      "cell_type": "markdown",
      "source": [
        "**Part D** - Print the values for slope and y-intercept"
      ],
      "metadata": {
        "id": "0QMipKhb830G"
      }
    },
    {
      "cell_type": "code",
      "source": [
        "print(\"Slope is: \", coefficients)\n",
        "\n",
        "print(\"Intercept is: \", intercept)"
      ],
      "metadata": {
        "id": "R7cvi3KB9dJh",
        "colab": {
          "base_uri": "https://localhost:8080/"
        },
        "outputId": "05e93ec1-eda9-423e-8ee5-e9611aee44d3"
      },
      "execution_count": null,
      "outputs": [
        {
          "output_type": "stream",
          "name": "stdout",
          "text": [
            "Slope is:  [[0.48913766]]\n",
            "Intercept is:  [-5.57328662]\n"
          ]
        }
      ]
    },
    {
      "cell_type": "markdown",
      "source": [
        "**Part E** - Plot a scatter graph of the original data and a regression line on the same figure (example with dummy data shown below)\n",
        "\n",
        "![](https://drive.google.com/uc?export=view&id=1o_NAsNjfx7zAh9m-UjvWB3rta6uraKdY)"
      ],
      "metadata": {
        "id": "IIq-BQYp_i33"
      }
    },
    {
      "cell_type": "code",
      "source": [
        "import matplotlib.pyplot as plt\n",
        "\n",
        "plt.scatter(data['Tail Length (cm)'], data['Mass (kg)'])\n",
        "plt.plot(train_x, coefficients[0]*train_x + intercept, color=\"red\")\n",
        "plt.xlabel(\"Tail Length (cm)\")\n",
        "plt.ylabel(\"Mass (kg)\")\n",
        "plt.show()"
      ],
      "metadata": {
        "id": "jhz8gTYt_lCn",
        "colab": {
          "base_uri": "https://localhost:8080/",
          "height": 279
        },
        "outputId": "c10ba105-3cbf-45a9-d178-428691344fca"
      },
      "execution_count": null,
      "outputs": [
        {
          "output_type": "display_data",
          "data": {
            "text/plain": [
              "<Figure size 432x288 with 1 Axes>"
            ],
            "image/png": "[encoded data removed]"
          },
          "metadata": {
            "needs_background": "light"
          }
        }
      ]
    }
  ]
}